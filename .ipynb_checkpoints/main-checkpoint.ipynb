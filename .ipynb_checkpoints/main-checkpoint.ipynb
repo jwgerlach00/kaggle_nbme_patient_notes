{
 "cells": [
  {
   "cell_type": "code",
   "execution_count": 12,
   "id": "5c1d02c7",
   "metadata": {},
   "outputs": [
    {
     "name": "stdout",
     "output_type": "stream",
     "text": [
      "FEATURES.CSV:\n",
      "     feature_num  case_num                                       feature_text\n",
      "0              0         0  Family-history-of-MI-OR-Family-history-of-myoc...\n",
      "1              1         0                 Family-history-of-thyroid-disorder\n",
      "2              2         0                                     Chest-pressure\n",
      "3              3         0                              Intermittent-symptoms\n",
      "4              4         0                                        Lightheaded\n",
      "..           ...       ...                                                ...\n",
      "138          912         9                        Family-history-of-migraines\n",
      "139          913         9                                             Female\n",
      "140          914         9                                        Photophobia\n",
      "141          915         9                          No-known-illness-contacts\n",
      "142          916         9                                   Subjective-fever\n",
      "\n",
      "[143 rows x 3 columns] Index(['feature_num', 'case_num', 'feature_text'], dtype='object') \n",
      "\n",
      "SAMPLE_SUBMISSION.CSV:\n",
      "          id         location\n",
      "0  00016_000            0 100\n",
      "1  00016_001              NaN\n",
      "2  00016_002  200 250;300 400\n",
      "3  00016_003              NaN\n",
      "4  00016_004           75 110 Index(['id', 'location'], dtype='object') \n",
      "\n",
      "TRAIN.CSV:\n",
      "              id  case_num  pn_num  feature_num  \\\n",
      "0      00016_000         0      16            0   \n",
      "1      00016_001         0      16            1   \n",
      "2      00016_002         0      16            2   \n",
      "3      00016_003         0      16            3   \n",
      "4      00016_004         0      16            4   \n",
      "...          ...       ...     ...          ...   \n",
      "14295  95333_912         9   95333          912   \n",
      "14296  95333_913         9   95333          913   \n",
      "14297  95333_914         9   95333          914   \n",
      "14298  95333_915         9   95333          915   \n",
      "14299  95333_916         9   95333          916   \n",
      "\n",
      "                                     annotation              location  \n",
      "0              ['dad with recent heart attcak']           ['696 724']  \n",
      "1                 ['mom with \"thyroid disease']           ['668 693']  \n",
      "2                            ['chest pressure']           ['203 217']  \n",
      "3          ['intermittent episodes', 'episode']  ['70 91', '176 183']  \n",
      "4      ['felt as if he were going to pass out']           ['222 258']  \n",
      "...                                         ...                   ...  \n",
      "14295                                        []                    []  \n",
      "14296                                        []                    []  \n",
      "14297                              ['photobia']           ['274 282']  \n",
      "14298                      ['no sick contacts']           ['421 437']  \n",
      "14299                      ['Subjective fever']           ['314 330']  \n",
      "\n",
      "[14300 rows x 6 columns] Index(['id', 'case_num', 'pn_num', 'feature_num', 'annotation', 'location'], dtype='object') \n",
      "\n",
      "TEST.CSV:\n",
      "          id  case_num  pn_num  feature_num\n",
      "0  00016_000         0      16            0\n",
      "1  00016_001         0      16            1\n",
      "2  00016_002         0      16            2\n",
      "3  00016_003         0      16            3\n",
      "4  00016_004         0      16            4 Index(['id', 'case_num', 'pn_num', 'feature_num'], dtype='object') \n",
      "\n",
      "PATIENT_NOTES.CSV:\n",
      "       pn_num  case_num                                         pn_history\n",
      "0           0         0  17-year-old male, has come to the student heal...\n",
      "1           1         0  17 yo male with recurrent palpitations for the...\n",
      "2           2         0  Dillon Cleveland is a 17 y.o. male patient wit...\n",
      "3           3         0  a 17 yo m c/o palpitation started 3 mos ago; \\...\n",
      "4           4         0  17yo male with no pmh here for evaluation of p...\n",
      "...       ...       ...                                                ...\n",
      "42141   95330         9  Ms. Madden is a 20 yo female presenting w/ the...\n",
      "42142   95331         9  A 20 YO F CAME COMPLAIN A DULL 8/10 HEADACHE T...\n",
      "42143   95332         9  Ms. Madden is a 20yo female who presents with ...\n",
      "42144   95333         9  Stephanie madden is a 20 year old woman compla...\n",
      "42145   95334         9  patient is a 20 yo F who presents with a heada...\n",
      "\n",
      "[42146 rows x 3 columns] Index(['pn_num', 'case_num', 'pn_history'], dtype='object') \n",
      "\n"
     ]
    }
   ],
   "source": [
    "import os\n",
    "import pandas as pd\n",
    "\n",
    "# Display data\n",
    "for file in os.listdir('data'):\n",
    "    df = pd.read_csv(f'data/{file}')\n",
    "    print(file.upper() + ':')\n",
    "    print(df, df.columns, '\\n')"
   ]
  },
  {
   "cell_type": "code",
   "execution_count": 3,
   "id": "1cdc74ed",
   "metadata": {},
   "outputs": [],
   "source": [
    "import torch\n",
    "from torch import nn"
   ]
  },
  {
   "cell_type": "markdown",
   "id": "04546106",
   "metadata": {},
   "source": [
    "Transformers: Eliminate recurrent connections, returning to fully-connected adjacent architectures\n",
    "- Self-attention layers: Extract info from large contexts\n",
    "- When processing each item in the input, the model has access to all of the inputs up to and including the one under consideration, but no access to \"information about inputs\" beyond the current one\n",
    "\n",
    "It is like RNN but RNN uses sequential rather than parallalization therefore RNN is more computationally expensive.\n",
    "\n",
    "Try glove embedding space (because only 14k training samples) --> gives word vectors context\n",
    "\n"
   ]
  },
  {
   "cell_type": "code",
   "execution_count": 5,
   "id": "7ea4457c",
   "metadata": {},
   "outputs": [],
   "source": [
    "from architecture import SelfAttention"
   ]
  },
  {
   "cell_type": "code",
   "execution_count": null,
   "id": "b95f3b33",
   "metadata": {},
   "outputs": [],
   "source": [
    "train = pd.read_csv('data/train.csv')"
   ]
  }
 ],
 "metadata": {
  "kernelspec": {
   "display_name": "Python 3 (ipykernel)",
   "language": "python",
   "name": "python3"
  },
  "language_info": {
   "codemirror_mode": {
    "name": "ipython",
    "version": 3
   },
   "file_extension": ".py",
   "mimetype": "text/x-python",
   "name": "python",
   "nbconvert_exporter": "python",
   "pygments_lexer": "ipython3",
   "version": "3.9.7"
  }
 },
 "nbformat": 4,
 "nbformat_minor": 5
}
